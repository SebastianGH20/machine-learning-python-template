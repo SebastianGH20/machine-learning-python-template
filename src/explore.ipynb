{
    "cells": [
        {
            "cell_type": "markdown",
            "metadata": {},
            "source": [
                "# Explore here"
            ]
        },
        {
            "cell_type": "code",
            "execution_count": 1,
            "metadata": {},
            "outputs": [
                {
                    "name": "stdout",
                    "output_type": "stream",
                    "text": [
                        "Index(['age', 'job', 'marital', 'education', 'default', 'housing', 'loan',\n",
                        "       'contact', 'month', 'day_of_week', 'duration', 'campaign', 'pdays',\n",
                        "       'previous', 'poutcome', 'emp.var.rate', 'cons.price.idx',\n",
                        "       'cons.conf.idx', 'euribor3m', 'nr.employed', 'y'],\n",
                        "      dtype='object')\n"
                    ]
                }
            ],
            "source": [
                "import pandas as pd\n",
                "\n",
                "# Lectura del conjunto de datos especificando el delimitador correcto\n",
                "url = \"https://raw.githubusercontent.com/4GeeksAcademy/logistic-regression-project-tutorial/main/bank-marketing-campaign-data.csv\"\n",
                "data = pd.read_csv(url, delimiter=';')  # Usar ';' como delimitador para corregir el problema de las columnas\n",
                "\n",
                "# Imprimir los nombres de las columnas para verificar\n",
                "print(data.columns)"
            ]
        }
    ],
    "metadata": {
        "kernelspec": {
            "display_name": "Python 3.8.13 64-bit ('3.8.13')",
            "language": "python",
            "name": "python3"
        },
        "language_info": {
            "codemirror_mode": {
                "name": "ipython",
                "version": 3
            },
            "file_extension": ".py",
            "mimetype": "text/x-python",
            "name": "python",
            "nbconvert_exporter": "python",
            "pygments_lexer": "ipython3",
            "version": "3.12.0"
        },
        "orig_nbformat": 4,
        "vscode": {
            "interpreter": {
                "hash": "110cc1dee26208153f2972f08a2ad52b6a56238dc66d48e87fb757ef2996db56"
            }
        }
    },
    "nbformat": 4,
    "nbformat_minor": 2
}
